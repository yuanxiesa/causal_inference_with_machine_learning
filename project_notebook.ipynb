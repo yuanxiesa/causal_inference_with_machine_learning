{
 "cells": [
  {
   "cell_type": "markdown",
   "id": "2d7e573a",
   "metadata": {},
   "source": [
    "## Load Necessary Libraries"
   ]
  },
  {
   "cell_type": "code",
   "execution_count": 34,
   "id": "ca89ff50",
   "metadata": {},
   "outputs": [],
   "source": [
    "import pandas as pd\n",
    "import matplotlib.pyplot as plt\n",
    "import numpy as np"
   ]
  },
  {
   "cell_type": "markdown",
   "id": "731a4a86",
   "metadata": {},
   "source": [
    "## Process the EV data"
   ]
  },
  {
   "cell_type": "code",
   "execution_count": 35,
   "id": "2bf998b8",
   "metadata": {},
   "outputs": [
    {
     "data": {
      "text/plain": [
       "(39, 4)"
      ]
     },
     "execution_count": 35,
     "metadata": {},
     "output_type": "execute_result"
    }
   ],
   "source": [
    "EV = pd.read_csv('data/Electric_Vehicle_Population_Size_History_By_County.csv',\n",
    "                 usecols=['Date', 'County', 'State', 'Vehicle Primary Use', 'Electric Vehicle (EV) Total', 'Total Vehicles'])\n",
    "\n",
    "# only maintain Vehicle Parimary Use == 'Passenger'\n",
    "# only maintain State == WA\n",
    "EV = EV[EV['State'] == 'WA']\n",
    "EV = EV[EV['Vehicle Primary Use'] == 'Passenger']\n",
    "EV.reset_index(drop=True, inplace=True)\n",
    "\n",
    "# transform Date column to only year\n",
    "EV['Year'] = EV['Date'].str.split().apply(lambda x: x[-1])\n",
    "\n",
    "# drop columns no longer useful\n",
    "EV.drop(columns=['Vehicle Primary Use', 'State','Date'], inplace=True)\n",
    "EV = EV[['Year', 'County', 'Electric Vehicle (EV) Total', 'Total Vehicles']]\n",
    "\n",
    "# create the sum table\n",
    "EV = EV.groupby(by=['Year', 'County']).sum()\n",
    "\n",
    "# create the EV fraction column\n",
    "EV['fraction EV'] = round(EV['Electric Vehicle (EV) Total']/EV['Total Vehicles'],4)\n",
    "EV = EV[['fraction EV']].unstack().T.reset_index()\n",
    "\n",
    "# only select useful columns\n",
    "EV = EV[['County', '2019', '2020', '2021']]\n",
    "\n",
    "EV.shape"
   ]
  },
  {
   "cell_type": "markdown",
   "id": "572d1a7c",
   "metadata": {},
   "source": [
    "## Load the Per Capita Income data"
   ]
  },
  {
   "cell_type": "code",
   "execution_count": 36,
   "id": "cfe8949f",
   "metadata": {},
   "outputs": [],
   "source": [
    "income = pd.read_csv('data/income_WA.csv')\n",
    "income['2019'] = income['2019'].str.split(',').apply(lambda x: int(x[0])*1000 + int(x[1]))\n",
    "income['2020'] = income['2020'].str.split(',').apply(lambda x: int(x[0])*1000 + int(x[1]))\n",
    "income['2021'] = income['2021'].str.split(',').apply(lambda x: int(x[0])*1000 + int(x[1]))"
   ]
  },
  {
   "cell_type": "code",
   "execution_count": 37,
   "id": "18df608e",
   "metadata": {},
   "outputs": [],
   "source": [
    "## Get the Merged Table\n",
    "both_df = EV.merge(right=income, how='outer', on='County', suffixes=('_EV', '_income'))"
   ]
  },
  {
   "cell_type": "code",
   "execution_count": 38,
   "id": "ae76b7ef",
   "metadata": {},
   "outputs": [
    {
     "data": {
      "text/html": [
       "<div>\n",
       "<style scoped>\n",
       "    .dataframe tbody tr th:only-of-type {\n",
       "        vertical-align: middle;\n",
       "    }\n",
       "\n",
       "    .dataframe tbody tr th {\n",
       "        vertical-align: top;\n",
       "    }\n",
       "\n",
       "    .dataframe thead th {\n",
       "        text-align: right;\n",
       "    }\n",
       "</style>\n",
       "<table border=\"1\" class=\"dataframe\">\n",
       "  <thead>\n",
       "    <tr style=\"text-align: right;\">\n",
       "      <th></th>\n",
       "      <th>County</th>\n",
       "      <th>2019_EV</th>\n",
       "      <th>2020_EV</th>\n",
       "      <th>2021_EV</th>\n",
       "      <th>2019_income</th>\n",
       "      <th>2020_income</th>\n",
       "      <th>2021_income</th>\n",
       "    </tr>\n",
       "  </thead>\n",
       "  <tbody>\n",
       "    <tr>\n",
       "      <th>27</th>\n",
       "      <td>San Juan</td>\n",
       "      <td>0.0198</td>\n",
       "      <td>0.0281</td>\n",
       "      <td>0.0385</td>\n",
       "      <td>81070</td>\n",
       "      <td>84496</td>\n",
       "      <td>87038</td>\n",
       "    </tr>\n",
       "    <tr>\n",
       "      <th>16</th>\n",
       "      <td>King</td>\n",
       "      <td>0.0187</td>\n",
       "      <td>0.0231</td>\n",
       "      <td>0.0288</td>\n",
       "      <td>95083</td>\n",
       "      <td>99734</td>\n",
       "      <td>108212</td>\n",
       "    </tr>\n",
       "    <tr>\n",
       "      <th>15</th>\n",
       "      <td>Jefferson</td>\n",
       "      <td>0.0126</td>\n",
       "      <td>0.0155</td>\n",
       "      <td>0.0204</td>\n",
       "      <td>54524</td>\n",
       "      <td>57847</td>\n",
       "      <td>60365</td>\n",
       "    </tr>\n",
       "    <tr>\n",
       "      <th>17</th>\n",
       "      <td>Kitsap</td>\n",
       "      <td>0.0092</td>\n",
       "      <td>0.0114</td>\n",
       "      <td>0.0149</td>\n",
       "      <td>58290</td>\n",
       "      <td>62308</td>\n",
       "      <td>67845</td>\n",
       "    </tr>\n",
       "    <tr>\n",
       "      <th>30</th>\n",
       "      <td>Snohomish</td>\n",
       "      <td>0.0096</td>\n",
       "      <td>0.0117</td>\n",
       "      <td>0.0148</td>\n",
       "      <td>58706</td>\n",
       "      <td>63477</td>\n",
       "      <td>68858</td>\n",
       "    </tr>\n",
       "    <tr>\n",
       "      <th>14</th>\n",
       "      <td>Island</td>\n",
       "      <td>0.0089</td>\n",
       "      <td>0.0111</td>\n",
       "      <td>0.0146</td>\n",
       "      <td>56646</td>\n",
       "      <td>60419</td>\n",
       "      <td>65188</td>\n",
       "    </tr>\n",
       "    <tr>\n",
       "      <th>36</th>\n",
       "      <td>Whatcom</td>\n",
       "      <td>0.0086</td>\n",
       "      <td>0.0106</td>\n",
       "      <td>0.0135</td>\n",
       "      <td>51683</td>\n",
       "      <td>54927</td>\n",
       "      <td>58137</td>\n",
       "    </tr>\n",
       "    <tr>\n",
       "      <th>5</th>\n",
       "      <td>Clark</td>\n",
       "      <td>0.0079</td>\n",
       "      <td>0.0099</td>\n",
       "      <td>0.0133</td>\n",
       "      <td>55543</td>\n",
       "      <td>58629</td>\n",
       "      <td>63427</td>\n",
       "    </tr>\n",
       "    <tr>\n",
       "      <th>33</th>\n",
       "      <td>Thurston</td>\n",
       "      <td>0.0077</td>\n",
       "      <td>0.0097</td>\n",
       "      <td>0.0125</td>\n",
       "      <td>52297</td>\n",
       "      <td>56527</td>\n",
       "      <td>61062</td>\n",
       "    </tr>\n",
       "    <tr>\n",
       "      <th>4</th>\n",
       "      <td>Clallam</td>\n",
       "      <td>0.0062</td>\n",
       "      <td>0.0080</td>\n",
       "      <td>0.0108</td>\n",
       "      <td>48024</td>\n",
       "      <td>51690</td>\n",
       "      <td>54894</td>\n",
       "    </tr>\n",
       "    <tr>\n",
       "      <th>26</th>\n",
       "      <td>Pierce</td>\n",
       "      <td>0.0062</td>\n",
       "      <td>0.0075</td>\n",
       "      <td>0.0099</td>\n",
       "      <td>52389</td>\n",
       "      <td>56467</td>\n",
       "      <td>61580</td>\n",
       "    </tr>\n",
       "    <tr>\n",
       "      <th>29</th>\n",
       "      <td>Skamania</td>\n",
       "      <td>0.0046</td>\n",
       "      <td>0.0059</td>\n",
       "      <td>0.0096</td>\n",
       "      <td>50414</td>\n",
       "      <td>54042</td>\n",
       "      <td>58554</td>\n",
       "    </tr>\n",
       "    <tr>\n",
       "      <th>28</th>\n",
       "      <td>Skagit</td>\n",
       "      <td>0.0055</td>\n",
       "      <td>0.0070</td>\n",
       "      <td>0.0095</td>\n",
       "      <td>54843</td>\n",
       "      <td>58996</td>\n",
       "      <td>64093</td>\n",
       "    </tr>\n",
       "    <tr>\n",
       "      <th>19</th>\n",
       "      <td>Klickitat</td>\n",
       "      <td>0.0045</td>\n",
       "      <td>0.0063</td>\n",
       "      <td>0.0081</td>\n",
       "      <td>49847</td>\n",
       "      <td>53026</td>\n",
       "      <td>55602</td>\n",
       "    </tr>\n",
       "    <tr>\n",
       "      <th>3</th>\n",
       "      <td>Chelan</td>\n",
       "      <td>0.0043</td>\n",
       "      <td>0.0059</td>\n",
       "      <td>0.0081</td>\n",
       "      <td>54288</td>\n",
       "      <td>59082</td>\n",
       "      <td>62792</td>\n",
       "    </tr>\n",
       "    <tr>\n",
       "      <th>18</th>\n",
       "      <td>Kittitas</td>\n",
       "      <td>0.0040</td>\n",
       "      <td>0.0052</td>\n",
       "      <td>0.0077</td>\n",
       "      <td>47000</td>\n",
       "      <td>50624</td>\n",
       "      <td>52846</td>\n",
       "    </tr>\n",
       "    <tr>\n",
       "      <th>22</th>\n",
       "      <td>Mason</td>\n",
       "      <td>0.0053</td>\n",
       "      <td>0.0062</td>\n",
       "      <td>0.0075</td>\n",
       "      <td>45120</td>\n",
       "      <td>48488</td>\n",
       "      <td>52410</td>\n",
       "    </tr>\n",
       "    <tr>\n",
       "      <th>34</th>\n",
       "      <td>Wahkiakum</td>\n",
       "      <td>0.0014</td>\n",
       "      <td>0.0038</td>\n",
       "      <td>0.0068</td>\n",
       "      <td>45523</td>\n",
       "      <td>48982</td>\n",
       "      <td>52239</td>\n",
       "    </tr>\n",
       "    <tr>\n",
       "      <th>2</th>\n",
       "      <td>Benton</td>\n",
       "      <td>0.0041</td>\n",
       "      <td>0.0052</td>\n",
       "      <td>0.0068</td>\n",
       "      <td>48522</td>\n",
       "      <td>51895</td>\n",
       "      <td>54958</td>\n",
       "    </tr>\n",
       "    <tr>\n",
       "      <th>13</th>\n",
       "      <td>Grays Harbor</td>\n",
       "      <td>0.0035</td>\n",
       "      <td>0.0046</td>\n",
       "      <td>0.0063</td>\n",
       "      <td>40717</td>\n",
       "      <td>44125</td>\n",
       "      <td>47094</td>\n",
       "    </tr>\n",
       "    <tr>\n",
       "      <th>24</th>\n",
       "      <td>Pacific</td>\n",
       "      <td>0.0033</td>\n",
       "      <td>0.0041</td>\n",
       "      <td>0.0059</td>\n",
       "      <td>41078</td>\n",
       "      <td>43968</td>\n",
       "      <td>46597</td>\n",
       "    </tr>\n",
       "    <tr>\n",
       "      <th>31</th>\n",
       "      <td>Spokane</td>\n",
       "      <td>0.0031</td>\n",
       "      <td>0.0040</td>\n",
       "      <td>0.0054</td>\n",
       "      <td>46117</td>\n",
       "      <td>49634</td>\n",
       "      <td>53770</td>\n",
       "    </tr>\n",
       "    <tr>\n",
       "      <th>35</th>\n",
       "      <td>Walla Walla</td>\n",
       "      <td>0.0031</td>\n",
       "      <td>0.0039</td>\n",
       "      <td>0.0053</td>\n",
       "      <td>46483</td>\n",
       "      <td>50520</td>\n",
       "      <td>53845</td>\n",
       "    </tr>\n",
       "    <tr>\n",
       "      <th>20</th>\n",
       "      <td>Lewis</td>\n",
       "      <td>0.0033</td>\n",
       "      <td>0.0038</td>\n",
       "      <td>0.0052</td>\n",
       "      <td>44310</td>\n",
       "      <td>48320</td>\n",
       "      <td>52517</td>\n",
       "    </tr>\n",
       "    <tr>\n",
       "      <th>8</th>\n",
       "      <td>Douglas</td>\n",
       "      <td>0.0034</td>\n",
       "      <td>0.0041</td>\n",
       "      <td>0.0051</td>\n",
       "      <td>41616</td>\n",
       "      <td>45899</td>\n",
       "      <td>49290</td>\n",
       "    </tr>\n",
       "    <tr>\n",
       "      <th>7</th>\n",
       "      <td>Cowlitz</td>\n",
       "      <td>0.0028</td>\n",
       "      <td>0.0036</td>\n",
       "      <td>0.0051</td>\n",
       "      <td>46108</td>\n",
       "      <td>49882</td>\n",
       "      <td>54550</td>\n",
       "    </tr>\n",
       "    <tr>\n",
       "      <th>37</th>\n",
       "      <td>Whitman</td>\n",
       "      <td>0.0034</td>\n",
       "      <td>0.0042</td>\n",
       "      <td>0.0050</td>\n",
       "      <td>40744</td>\n",
       "      <td>44226</td>\n",
       "      <td>46502</td>\n",
       "    </tr>\n",
       "    <tr>\n",
       "      <th>23</th>\n",
       "      <td>Okanogan</td>\n",
       "      <td>0.0018</td>\n",
       "      <td>0.0028</td>\n",
       "      <td>0.0039</td>\n",
       "      <td>42429</td>\n",
       "      <td>47732</td>\n",
       "      <td>50517</td>\n",
       "    </tr>\n",
       "    <tr>\n",
       "      <th>10</th>\n",
       "      <td>Franklin</td>\n",
       "      <td>0.0020</td>\n",
       "      <td>0.0023</td>\n",
       "      <td>0.0036</td>\n",
       "      <td>39324</td>\n",
       "      <td>42756</td>\n",
       "      <td>45937</td>\n",
       "    </tr>\n",
       "    <tr>\n",
       "      <th>6</th>\n",
       "      <td>Columbia</td>\n",
       "      <td>0.0018</td>\n",
       "      <td>0.0027</td>\n",
       "      <td>0.0035</td>\n",
       "      <td>57520</td>\n",
       "      <td>65425</td>\n",
       "      <td>70579</td>\n",
       "    </tr>\n",
       "    <tr>\n",
       "      <th>12</th>\n",
       "      <td>Grant</td>\n",
       "      <td>0.0016</td>\n",
       "      <td>0.0021</td>\n",
       "      <td>0.0030</td>\n",
       "      <td>40839</td>\n",
       "      <td>46331</td>\n",
       "      <td>48845</td>\n",
       "    </tr>\n",
       "    <tr>\n",
       "      <th>9</th>\n",
       "      <td>Ferry</td>\n",
       "      <td>0.0015</td>\n",
       "      <td>0.0021</td>\n",
       "      <td>0.0030</td>\n",
       "      <td>38465</td>\n",
       "      <td>44164</td>\n",
       "      <td>46847</td>\n",
       "    </tr>\n",
       "    <tr>\n",
       "      <th>32</th>\n",
       "      <td>Stevens</td>\n",
       "      <td>0.0016</td>\n",
       "      <td>0.0023</td>\n",
       "      <td>0.0029</td>\n",
       "      <td>40255</td>\n",
       "      <td>43570</td>\n",
       "      <td>47613</td>\n",
       "    </tr>\n",
       "    <tr>\n",
       "      <th>1</th>\n",
       "      <td>Asotin</td>\n",
       "      <td>0.0016</td>\n",
       "      <td>0.0023</td>\n",
       "      <td>0.0028</td>\n",
       "      <td>48040</td>\n",
       "      <td>51453</td>\n",
       "      <td>55564</td>\n",
       "    </tr>\n",
       "    <tr>\n",
       "      <th>21</th>\n",
       "      <td>Lincoln</td>\n",
       "      <td>0.0014</td>\n",
       "      <td>0.0020</td>\n",
       "      <td>0.0026</td>\n",
       "      <td>45756</td>\n",
       "      <td>50879</td>\n",
       "      <td>51578</td>\n",
       "    </tr>\n",
       "    <tr>\n",
       "      <th>38</th>\n",
       "      <td>Yakima</td>\n",
       "      <td>0.0013</td>\n",
       "      <td>0.0016</td>\n",
       "      <td>0.0023</td>\n",
       "      <td>43208</td>\n",
       "      <td>47315</td>\n",
       "      <td>50872</td>\n",
       "    </tr>\n",
       "    <tr>\n",
       "      <th>25</th>\n",
       "      <td>Pend Oreille</td>\n",
       "      <td>0.0011</td>\n",
       "      <td>0.0015</td>\n",
       "      <td>0.0023</td>\n",
       "      <td>44448</td>\n",
       "      <td>48116</td>\n",
       "      <td>51623</td>\n",
       "    </tr>\n",
       "    <tr>\n",
       "      <th>11</th>\n",
       "      <td>Garfield</td>\n",
       "      <td>0.0012</td>\n",
       "      <td>0.0008</td>\n",
       "      <td>0.0019</td>\n",
       "      <td>50341</td>\n",
       "      <td>56479</td>\n",
       "      <td>56792</td>\n",
       "    </tr>\n",
       "    <tr>\n",
       "      <th>0</th>\n",
       "      <td>Adams</td>\n",
       "      <td>0.0009</td>\n",
       "      <td>0.0012</td>\n",
       "      <td>0.0019</td>\n",
       "      <td>40526</td>\n",
       "      <td>45040</td>\n",
       "      <td>47867</td>\n",
       "    </tr>\n",
       "  </tbody>\n",
       "</table>\n",
       "</div>"
      ],
      "text/plain": [
       "          County  2019_EV  2020_EV  2021_EV  2019_income  2020_income  \\\n",
       "27      San Juan   0.0198   0.0281   0.0385        81070        84496   \n",
       "16          King   0.0187   0.0231   0.0288        95083        99734   \n",
       "15     Jefferson   0.0126   0.0155   0.0204        54524        57847   \n",
       "17        Kitsap   0.0092   0.0114   0.0149        58290        62308   \n",
       "30     Snohomish   0.0096   0.0117   0.0148        58706        63477   \n",
       "14        Island   0.0089   0.0111   0.0146        56646        60419   \n",
       "36       Whatcom   0.0086   0.0106   0.0135        51683        54927   \n",
       "5          Clark   0.0079   0.0099   0.0133        55543        58629   \n",
       "33      Thurston   0.0077   0.0097   0.0125        52297        56527   \n",
       "4        Clallam   0.0062   0.0080   0.0108        48024        51690   \n",
       "26        Pierce   0.0062   0.0075   0.0099        52389        56467   \n",
       "29      Skamania   0.0046   0.0059   0.0096        50414        54042   \n",
       "28        Skagit   0.0055   0.0070   0.0095        54843        58996   \n",
       "19     Klickitat   0.0045   0.0063   0.0081        49847        53026   \n",
       "3         Chelan   0.0043   0.0059   0.0081        54288        59082   \n",
       "18      Kittitas   0.0040   0.0052   0.0077        47000        50624   \n",
       "22         Mason   0.0053   0.0062   0.0075        45120        48488   \n",
       "34     Wahkiakum   0.0014   0.0038   0.0068        45523        48982   \n",
       "2         Benton   0.0041   0.0052   0.0068        48522        51895   \n",
       "13  Grays Harbor   0.0035   0.0046   0.0063        40717        44125   \n",
       "24       Pacific   0.0033   0.0041   0.0059        41078        43968   \n",
       "31       Spokane   0.0031   0.0040   0.0054        46117        49634   \n",
       "35   Walla Walla   0.0031   0.0039   0.0053        46483        50520   \n",
       "20         Lewis   0.0033   0.0038   0.0052        44310        48320   \n",
       "8        Douglas   0.0034   0.0041   0.0051        41616        45899   \n",
       "7        Cowlitz   0.0028   0.0036   0.0051        46108        49882   \n",
       "37       Whitman   0.0034   0.0042   0.0050        40744        44226   \n",
       "23      Okanogan   0.0018   0.0028   0.0039        42429        47732   \n",
       "10      Franklin   0.0020   0.0023   0.0036        39324        42756   \n",
       "6       Columbia   0.0018   0.0027   0.0035        57520        65425   \n",
       "12         Grant   0.0016   0.0021   0.0030        40839        46331   \n",
       "9          Ferry   0.0015   0.0021   0.0030        38465        44164   \n",
       "32       Stevens   0.0016   0.0023   0.0029        40255        43570   \n",
       "1         Asotin   0.0016   0.0023   0.0028        48040        51453   \n",
       "21       Lincoln   0.0014   0.0020   0.0026        45756        50879   \n",
       "38        Yakima   0.0013   0.0016   0.0023        43208        47315   \n",
       "25  Pend Oreille   0.0011   0.0015   0.0023        44448        48116   \n",
       "11      Garfield   0.0012   0.0008   0.0019        50341        56479   \n",
       "0          Adams   0.0009   0.0012   0.0019        40526        45040   \n",
       "\n",
       "    2021_income  \n",
       "27        87038  \n",
       "16       108212  \n",
       "15        60365  \n",
       "17        67845  \n",
       "30        68858  \n",
       "14        65188  \n",
       "36        58137  \n",
       "5         63427  \n",
       "33        61062  \n",
       "4         54894  \n",
       "26        61580  \n",
       "29        58554  \n",
       "28        64093  \n",
       "19        55602  \n",
       "3         62792  \n",
       "18        52846  \n",
       "22        52410  \n",
       "34        52239  \n",
       "2         54958  \n",
       "13        47094  \n",
       "24        46597  \n",
       "31        53770  \n",
       "35        53845  \n",
       "20        52517  \n",
       "8         49290  \n",
       "7         54550  \n",
       "37        46502  \n",
       "23        50517  \n",
       "10        45937  \n",
       "6         70579  \n",
       "12        48845  \n",
       "9         46847  \n",
       "32        47613  \n",
       "1         55564  \n",
       "21        51578  \n",
       "38        50872  \n",
       "25        51623  \n",
       "11        56792  \n",
       "0         47867  "
      ]
     },
     "execution_count": 38,
     "metadata": {},
     "output_type": "execute_result"
    }
   ],
   "source": [
    "both_df.sort_values(by='2021_EV', ascending=False)"
   ]
  },
  {
   "cell_type": "code",
   "execution_count": 39,
   "id": "5836292a",
   "metadata": {},
   "outputs": [
    {
     "data": {
      "text/html": [
       "<div>\n",
       "<style scoped>\n",
       "    .dataframe tbody tr th:only-of-type {\n",
       "        vertical-align: middle;\n",
       "    }\n",
       "\n",
       "    .dataframe tbody tr th {\n",
       "        vertical-align: top;\n",
       "    }\n",
       "\n",
       "    .dataframe thead th {\n",
       "        text-align: right;\n",
       "    }\n",
       "</style>\n",
       "<table border=\"1\" class=\"dataframe\">\n",
       "  <thead>\n",
       "    <tr style=\"text-align: right;\">\n",
       "      <th></th>\n",
       "      <th>County</th>\n",
       "      <th>2019_EV</th>\n",
       "      <th>2020_EV</th>\n",
       "      <th>2021_EV</th>\n",
       "      <th>2019_income</th>\n",
       "      <th>2020_income</th>\n",
       "      <th>2021_income</th>\n",
       "    </tr>\n",
       "  </thead>\n",
       "  <tbody>\n",
       "    <tr>\n",
       "      <th>16</th>\n",
       "      <td>King</td>\n",
       "      <td>0.0187</td>\n",
       "      <td>0.0231</td>\n",
       "      <td>0.0288</td>\n",
       "      <td>95083</td>\n",
       "      <td>99734</td>\n",
       "      <td>108212</td>\n",
       "    </tr>\n",
       "    <tr>\n",
       "      <th>27</th>\n",
       "      <td>San Juan</td>\n",
       "      <td>0.0198</td>\n",
       "      <td>0.0281</td>\n",
       "      <td>0.0385</td>\n",
       "      <td>81070</td>\n",
       "      <td>84496</td>\n",
       "      <td>87038</td>\n",
       "    </tr>\n",
       "    <tr>\n",
       "      <th>6</th>\n",
       "      <td>Columbia</td>\n",
       "      <td>0.0018</td>\n",
       "      <td>0.0027</td>\n",
       "      <td>0.0035</td>\n",
       "      <td>57520</td>\n",
       "      <td>65425</td>\n",
       "      <td>70579</td>\n",
       "    </tr>\n",
       "    <tr>\n",
       "      <th>30</th>\n",
       "      <td>Snohomish</td>\n",
       "      <td>0.0096</td>\n",
       "      <td>0.0117</td>\n",
       "      <td>0.0148</td>\n",
       "      <td>58706</td>\n",
       "      <td>63477</td>\n",
       "      <td>68858</td>\n",
       "    </tr>\n",
       "    <tr>\n",
       "      <th>17</th>\n",
       "      <td>Kitsap</td>\n",
       "      <td>0.0092</td>\n",
       "      <td>0.0114</td>\n",
       "      <td>0.0149</td>\n",
       "      <td>58290</td>\n",
       "      <td>62308</td>\n",
       "      <td>67845</td>\n",
       "    </tr>\n",
       "  </tbody>\n",
       "</table>\n",
       "</div>"
      ],
      "text/plain": [
       "       County  2019_EV  2020_EV  2021_EV  2019_income  2020_income  \\\n",
       "16       King   0.0187   0.0231   0.0288        95083        99734   \n",
       "27   San Juan   0.0198   0.0281   0.0385        81070        84496   \n",
       "6    Columbia   0.0018   0.0027   0.0035        57520        65425   \n",
       "30  Snohomish   0.0096   0.0117   0.0148        58706        63477   \n",
       "17     Kitsap   0.0092   0.0114   0.0149        58290        62308   \n",
       "\n",
       "    2021_income  \n",
       "16       108212  \n",
       "27        87038  \n",
       "6         70579  \n",
       "30        68858  \n",
       "17        67845  "
      ]
     },
     "execution_count": 39,
     "metadata": {},
     "output_type": "execute_result"
    }
   ],
   "source": [
    "both_df.sort_values(by='2021_income', ascending=False).head()"
   ]
  },
  {
   "cell_type": "code",
   "execution_count": 40,
   "id": "79825cde",
   "metadata": {},
   "outputs": [
    {
     "data": {
      "text/html": [
       "<div>\n",
       "<style scoped>\n",
       "    .dataframe tbody tr th:only-of-type {\n",
       "        vertical-align: middle;\n",
       "    }\n",
       "\n",
       "    .dataframe tbody tr th {\n",
       "        vertical-align: top;\n",
       "    }\n",
       "\n",
       "    .dataframe thead th {\n",
       "        text-align: right;\n",
       "    }\n",
       "</style>\n",
       "<table border=\"1\" class=\"dataframe\">\n",
       "  <thead>\n",
       "    <tr style=\"text-align: right;\">\n",
       "      <th></th>\n",
       "      <th>County</th>\n",
       "      <th>2019_EV</th>\n",
       "      <th>2020_EV</th>\n",
       "      <th>2021_EV</th>\n",
       "      <th>2019_income</th>\n",
       "      <th>2020_income</th>\n",
       "      <th>2021_income</th>\n",
       "    </tr>\n",
       "  </thead>\n",
       "  <tbody>\n",
       "    <tr>\n",
       "      <th>10</th>\n",
       "      <td>Franklin</td>\n",
       "      <td>0.0020</td>\n",
       "      <td>0.0023</td>\n",
       "      <td>0.0036</td>\n",
       "      <td>39324</td>\n",
       "      <td>42756</td>\n",
       "      <td>45937</td>\n",
       "    </tr>\n",
       "    <tr>\n",
       "      <th>37</th>\n",
       "      <td>Whitman</td>\n",
       "      <td>0.0034</td>\n",
       "      <td>0.0042</td>\n",
       "      <td>0.0050</td>\n",
       "      <td>40744</td>\n",
       "      <td>44226</td>\n",
       "      <td>46502</td>\n",
       "    </tr>\n",
       "    <tr>\n",
       "      <th>24</th>\n",
       "      <td>Pacific</td>\n",
       "      <td>0.0033</td>\n",
       "      <td>0.0041</td>\n",
       "      <td>0.0059</td>\n",
       "      <td>41078</td>\n",
       "      <td>43968</td>\n",
       "      <td>46597</td>\n",
       "    </tr>\n",
       "    <tr>\n",
       "      <th>9</th>\n",
       "      <td>Ferry</td>\n",
       "      <td>0.0015</td>\n",
       "      <td>0.0021</td>\n",
       "      <td>0.0030</td>\n",
       "      <td>38465</td>\n",
       "      <td>44164</td>\n",
       "      <td>46847</td>\n",
       "    </tr>\n",
       "    <tr>\n",
       "      <th>13</th>\n",
       "      <td>Grays Harbor</td>\n",
       "      <td>0.0035</td>\n",
       "      <td>0.0046</td>\n",
       "      <td>0.0063</td>\n",
       "      <td>40717</td>\n",
       "      <td>44125</td>\n",
       "      <td>47094</td>\n",
       "    </tr>\n",
       "  </tbody>\n",
       "</table>\n",
       "</div>"
      ],
      "text/plain": [
       "          County  2019_EV  2020_EV  2021_EV  2019_income  2020_income  \\\n",
       "10      Franklin   0.0020   0.0023   0.0036        39324        42756   \n",
       "37       Whitman   0.0034   0.0042   0.0050        40744        44226   \n",
       "24       Pacific   0.0033   0.0041   0.0059        41078        43968   \n",
       "9          Ferry   0.0015   0.0021   0.0030        38465        44164   \n",
       "13  Grays Harbor   0.0035   0.0046   0.0063        40717        44125   \n",
       "\n",
       "    2021_income  \n",
       "10        45937  \n",
       "37        46502  \n",
       "24        46597  \n",
       "9         46847  \n",
       "13        47094  "
      ]
     },
     "execution_count": 40,
     "metadata": {},
     "output_type": "execute_result"
    }
   ],
   "source": [
    "both_df.sort_values(by='2021_income', ascending=True).head()"
   ]
  },
  {
   "cell_type": "code",
   "execution_count": 41,
   "id": "05f870eb",
   "metadata": {},
   "outputs": [
    {
     "data": {
      "text/html": [
       "<div>\n",
       "<style scoped>\n",
       "    .dataframe tbody tr th:only-of-type {\n",
       "        vertical-align: middle;\n",
       "    }\n",
       "\n",
       "    .dataframe tbody tr th {\n",
       "        vertical-align: top;\n",
       "    }\n",
       "\n",
       "    .dataframe thead th {\n",
       "        text-align: right;\n",
       "    }\n",
       "</style>\n",
       "<table border=\"1\" class=\"dataframe\">\n",
       "  <thead>\n",
       "    <tr style=\"text-align: right;\">\n",
       "      <th></th>\n",
       "      <th>County</th>\n",
       "      <th>2019_EV</th>\n",
       "      <th>2020_EV</th>\n",
       "      <th>2021_EV</th>\n",
       "      <th>2019_income</th>\n",
       "      <th>2020_income</th>\n",
       "      <th>2021_income</th>\n",
       "    </tr>\n",
       "  </thead>\n",
       "  <tbody>\n",
       "    <tr>\n",
       "      <th>27</th>\n",
       "      <td>San Juan</td>\n",
       "      <td>0.0198</td>\n",
       "      <td>0.0281</td>\n",
       "      <td>0.0385</td>\n",
       "      <td>81070</td>\n",
       "      <td>84496</td>\n",
       "      <td>87038</td>\n",
       "    </tr>\n",
       "    <tr>\n",
       "      <th>16</th>\n",
       "      <td>King</td>\n",
       "      <td>0.0187</td>\n",
       "      <td>0.0231</td>\n",
       "      <td>0.0288</td>\n",
       "      <td>95083</td>\n",
       "      <td>99734</td>\n",
       "      <td>108212</td>\n",
       "    </tr>\n",
       "    <tr>\n",
       "      <th>15</th>\n",
       "      <td>Jefferson</td>\n",
       "      <td>0.0126</td>\n",
       "      <td>0.0155</td>\n",
       "      <td>0.0204</td>\n",
       "      <td>54524</td>\n",
       "      <td>57847</td>\n",
       "      <td>60365</td>\n",
       "    </tr>\n",
       "    <tr>\n",
       "      <th>17</th>\n",
       "      <td>Kitsap</td>\n",
       "      <td>0.0092</td>\n",
       "      <td>0.0114</td>\n",
       "      <td>0.0149</td>\n",
       "      <td>58290</td>\n",
       "      <td>62308</td>\n",
       "      <td>67845</td>\n",
       "    </tr>\n",
       "    <tr>\n",
       "      <th>30</th>\n",
       "      <td>Snohomish</td>\n",
       "      <td>0.0096</td>\n",
       "      <td>0.0117</td>\n",
       "      <td>0.0148</td>\n",
       "      <td>58706</td>\n",
       "      <td>63477</td>\n",
       "      <td>68858</td>\n",
       "    </tr>\n",
       "  </tbody>\n",
       "</table>\n",
       "</div>"
      ],
      "text/plain": [
       "       County  2019_EV  2020_EV  2021_EV  2019_income  2020_income  \\\n",
       "27   San Juan   0.0198   0.0281   0.0385        81070        84496   \n",
       "16       King   0.0187   0.0231   0.0288        95083        99734   \n",
       "15  Jefferson   0.0126   0.0155   0.0204        54524        57847   \n",
       "17     Kitsap   0.0092   0.0114   0.0149        58290        62308   \n",
       "30  Snohomish   0.0096   0.0117   0.0148        58706        63477   \n",
       "\n",
       "    2021_income  \n",
       "27        87038  \n",
       "16       108212  \n",
       "15        60365  \n",
       "17        67845  \n",
       "30        68858  "
      ]
     },
     "execution_count": 41,
     "metadata": {},
     "output_type": "execute_result"
    }
   ],
   "source": [
    "both_df.sort_values(by='2021_EV', ascending=False).head()"
   ]
  },
  {
   "cell_type": "code",
   "execution_count": 42,
   "id": "1440af69",
   "metadata": {},
   "outputs": [
    {
     "data": {
      "text/html": [
       "<div>\n",
       "<style scoped>\n",
       "    .dataframe tbody tr th:only-of-type {\n",
       "        vertical-align: middle;\n",
       "    }\n",
       "\n",
       "    .dataframe tbody tr th {\n",
       "        vertical-align: top;\n",
       "    }\n",
       "\n",
       "    .dataframe thead th {\n",
       "        text-align: right;\n",
       "    }\n",
       "</style>\n",
       "<table border=\"1\" class=\"dataframe\">\n",
       "  <thead>\n",
       "    <tr style=\"text-align: right;\">\n",
       "      <th></th>\n",
       "      <th>County</th>\n",
       "      <th>2019_EV</th>\n",
       "      <th>2020_EV</th>\n",
       "      <th>2021_EV</th>\n",
       "      <th>2019_income</th>\n",
       "      <th>2020_income</th>\n",
       "      <th>2021_income</th>\n",
       "    </tr>\n",
       "  </thead>\n",
       "  <tbody>\n",
       "    <tr>\n",
       "      <th>0</th>\n",
       "      <td>Adams</td>\n",
       "      <td>0.0009</td>\n",
       "      <td>0.0012</td>\n",
       "      <td>0.0019</td>\n",
       "      <td>40526</td>\n",
       "      <td>45040</td>\n",
       "      <td>47867</td>\n",
       "    </tr>\n",
       "    <tr>\n",
       "      <th>11</th>\n",
       "      <td>Garfield</td>\n",
       "      <td>0.0012</td>\n",
       "      <td>0.0008</td>\n",
       "      <td>0.0019</td>\n",
       "      <td>50341</td>\n",
       "      <td>56479</td>\n",
       "      <td>56792</td>\n",
       "    </tr>\n",
       "    <tr>\n",
       "      <th>25</th>\n",
       "      <td>Pend Oreille</td>\n",
       "      <td>0.0011</td>\n",
       "      <td>0.0015</td>\n",
       "      <td>0.0023</td>\n",
       "      <td>44448</td>\n",
       "      <td>48116</td>\n",
       "      <td>51623</td>\n",
       "    </tr>\n",
       "    <tr>\n",
       "      <th>38</th>\n",
       "      <td>Yakima</td>\n",
       "      <td>0.0013</td>\n",
       "      <td>0.0016</td>\n",
       "      <td>0.0023</td>\n",
       "      <td>43208</td>\n",
       "      <td>47315</td>\n",
       "      <td>50872</td>\n",
       "    </tr>\n",
       "    <tr>\n",
       "      <th>21</th>\n",
       "      <td>Lincoln</td>\n",
       "      <td>0.0014</td>\n",
       "      <td>0.0020</td>\n",
       "      <td>0.0026</td>\n",
       "      <td>45756</td>\n",
       "      <td>50879</td>\n",
       "      <td>51578</td>\n",
       "    </tr>\n",
       "  </tbody>\n",
       "</table>\n",
       "</div>"
      ],
      "text/plain": [
       "          County  2019_EV  2020_EV  2021_EV  2019_income  2020_income  \\\n",
       "0          Adams   0.0009   0.0012   0.0019        40526        45040   \n",
       "11      Garfield   0.0012   0.0008   0.0019        50341        56479   \n",
       "25  Pend Oreille   0.0011   0.0015   0.0023        44448        48116   \n",
       "38        Yakima   0.0013   0.0016   0.0023        43208        47315   \n",
       "21       Lincoln   0.0014   0.0020   0.0026        45756        50879   \n",
       "\n",
       "    2021_income  \n",
       "0         47867  \n",
       "11        56792  \n",
       "25        51623  \n",
       "38        50872  \n",
       "21        51578  "
      ]
     },
     "execution_count": 42,
     "metadata": {},
     "output_type": "execute_result"
    }
   ],
   "source": [
    "both_df.sort_values(by='2021_EV', ascending=True).head()"
   ]
  },
  {
   "cell_type": "markdown",
   "id": "df274b1d",
   "metadata": {},
   "source": [
    "## Normalization "
   ]
  },
  {
   "cell_type": "code",
   "execution_count": 43,
   "id": "a68bcf00",
   "metadata": {},
   "outputs": [],
   "source": [
    "both_df_nor = both_df.copy()"
   ]
  },
  {
   "cell_type": "code",
   "execution_count": 44,
   "id": "c9a3c117",
   "metadata": {},
   "outputs": [],
   "source": [
    "both_df_nor['2020_EV'] = round(both_df_nor['2020_EV']/both_df_nor['2019_EV'], 3)\n",
    "both_df_nor['2021_EV'] = round(both_df_nor['2021_EV']/both_df_nor['2019_EV'], 3)\n",
    "both_df_nor['2019_EV'] = 1.0\n",
    "\n",
    "both_df_nor['2021_income'] = round(both_df_nor['2021_income']/both_df_nor['2019_income'], 3)\n",
    "both_df_nor['2020_income'] = round(both_df_nor['2020_income']/both_df_nor['2019_income'], 3)\n",
    "both_df_nor['2019_income'] = 1.0"
   ]
  },
  {
   "cell_type": "markdown",
   "id": "5d09abc8",
   "metadata": {},
   "source": [
    "## Linear regression model -- EV and income data"
   ]
  },
  {
   "cell_type": "code",
   "execution_count": 45,
   "id": "034b8f72",
   "metadata": {},
   "outputs": [],
   "source": [
    "X_train_full = both_df_nor[['2019_EV', '2020_EV', '2019_income','2020_income', '2021_income']].to_numpy(dtype='float')\n",
    "y_train_full = both_df_nor[['2021_EV']].to_numpy(dtype='float')"
   ]
  },
  {
   "cell_type": "code",
   "execution_count": 46,
   "id": "b7a3ad47",
   "metadata": {},
   "outputs": [],
   "source": [
    "from sklearn import linear_model\n",
    "regr_full = linear_model.LinearRegression()\n",
    "regr_full.fit(X_train_full, y_train_full)\n",
    "y_pred_full = regr_full.predict(X_train_full)\n",
    "full_model_error = np.squeeze(y_pred_full - y_train_full)"
   ]
  },
  {
   "cell_type": "markdown",
   "id": "c41b4aa9",
   "metadata": {},
   "source": [
    "## Linear regression model -- only prior EV data"
   ]
  },
  {
   "cell_type": "code",
   "execution_count": 47,
   "id": "72f0b1ec",
   "metadata": {},
   "outputs": [],
   "source": [
    "X_train_partial = both_df_nor[['2019_EV', '2020_EV']].to_numpy(dtype='float')\n",
    "y_train_partial = both_df_nor[['2021_EV']].to_numpy(dtype='float')"
   ]
  },
  {
   "cell_type": "code",
   "execution_count": 48,
   "id": "c11399d9",
   "metadata": {},
   "outputs": [],
   "source": [
    "regr_partial = linear_model.LinearRegression()\n",
    "regr_partial.fit(X_train_partial, y_train_partial)\n",
    "y_pred_partial = regr_partial.predict(X_train_partial)\n",
    "partial_model_error = np.squeeze(y_pred_partial - y_train_partial)"
   ]
  },
  {
   "cell_type": "markdown",
   "id": "ba94ed99",
   "metadata": {},
   "source": [
    "## plot the errors"
   ]
  },
  {
   "cell_type": "code",
   "execution_count": 49,
   "id": "41bd32a7",
   "metadata": {},
   "outputs": [
    {
     "data": {
      "text/plain": [
       "0.3022420688480034"
      ]
     },
     "execution_count": 49,
     "metadata": {},
     "output_type": "execute_result"
    }
   ],
   "source": [
    "max(partial_model_error)"
   ]
  },
  {
   "cell_type": "code",
   "execution_count": 50,
   "id": "ac3c7d77",
   "metadata": {},
   "outputs": [
    {
     "data": {
      "text/plain": [
       "0.3977619217642221"
      ]
     },
     "execution_count": 50,
     "metadata": {},
     "output_type": "execute_result"
    }
   ],
   "source": [
    "max(full_model_error)"
   ]
  },
  {
   "cell_type": "code",
   "execution_count": 51,
   "id": "f45bb688",
   "metadata": {},
   "outputs": [
    {
     "data": {
      "text/plain": [
       "-0.6766641201164123"
      ]
     },
     "execution_count": 51,
     "metadata": {},
     "output_type": "execute_result"
    }
   ],
   "source": [
    "min(full_model_error)"
   ]
  },
  {
   "cell_type": "code",
   "execution_count": 52,
   "id": "e1d5e100",
   "metadata": {},
   "outputs": [
    {
     "data": {
      "text/plain": [
       "-0.918002845037688"
      ]
     },
     "execution_count": 52,
     "metadata": {},
     "output_type": "execute_result"
    }
   ],
   "source": [
    "min(partial_model_error)"
   ]
  },
  {
   "cell_type": "code",
   "execution_count": 53,
   "id": "b6eb1ad9",
   "metadata": {},
   "outputs": [
    {
     "data": {
      "image/png": "[encoded data removed]",
      "text/plain": [
       "<Figure size 640x480 with 1 Axes>"
      ]
     },
     "metadata": {},
     "output_type": "display_data"
    }
   ],
   "source": [
    "bins = np.arange(start=-1, stop=0.4, step=0.1)\n",
    "# bins = np.arange(start=-0.002, stop=0.001, step=0.0001)\n",
    "plt.hist(full_model_error, label='(income + EV) model error', alpha=.8, edgecolor='black', bins=bins)\n",
    "plt.hist(partial_model_error, label='EV model error', alpha=0.7, edgecolor='black', bins=bins)\n",
    "plt.legend()\n",
    "plt.show()"
   ]
  },
  {
   "cell_type": "code",
   "execution_count": 54,
   "id": "5e1d0f6d",
   "metadata": {},
   "outputs": [
    {
     "data": {
      "text/plain": [
       "KruskalResult(statistic=0.11207791592981732, pvalue=0.7377907470688871)"
      ]
     },
     "execution_count": 54,
     "metadata": {},
     "output_type": "execute_result"
    }
   ],
   "source": [
    "from scipy.stats import kruskal\n",
    "kruskal(full_model_error, partial_model_error)\n",
    "\n",
    "# no normalization: 0.8454939839778679\n",
    "# with normalization: 0.7377907470688871"
   ]
  },
  {
   "cell_type": "markdown",
   "id": "5456eab7",
   "metadata": {},
   "source": [
    "## Random Forest"
   ]
  },
  {
   "cell_type": "code",
   "execution_count": 55,
   "id": "096b028a",
   "metadata": {},
   "outputs": [],
   "source": [
    "X_train_full = both_df[['2019_EV', '2020_EV', '2019_income','2020_income', '2021_income']].to_numpy(dtype='float')\n",
    "y_train_full = both_df[['2021_EV']].to_numpy(dtype='float').ravel()\n",
    "\n",
    "X_train_partial = both_df[['2019_EV', '2020_EV']].to_numpy(dtype='float')\n",
    "y_train_partial = both_df[['2021_EV']].to_numpy(dtype='float').ravel()"
   ]
  },
  {
   "cell_type": "code",
   "execution_count": 56,
   "id": "8e15e987",
   "metadata": {},
   "outputs": [],
   "source": [
    "from sklearn.ensemble import RandomForestRegressor\n",
    "regr_full = RandomForestRegressor(min_samples_leaf=5)\n",
    "regr_full.fit(X_train_full, np.ravel(y_train_full))\n",
    "y_pred_full = regr_full.predict(X_train_full)\n",
    "full_model_error = np.squeeze(y_pred_full - y_train_full)\n",
    "\n",
    "regr_partial = RandomForestRegressor(min_samples_leaf=5)\n",
    "regr_partial.fit(X_train_partial, np.ravel(y_train_partial))\n",
    "y_pred_partial = regr_partial.predict(X_train_partial)\n",
    "partial_model_error = np.squeeze(y_pred_partial - y_train_full)"
   ]
  },
  {
   "cell_type": "code",
   "execution_count": 57,
   "id": "d9204801",
   "metadata": {},
   "outputs": [
    {
     "data": {
      "text/plain": [
       "0.004906536371961374"
      ]
     },
     "execution_count": 57,
     "metadata": {},
     "output_type": "execute_result"
    }
   ],
   "source": [
    "max(partial_model_error)"
   ]
  },
  {
   "cell_type": "code",
   "execution_count": 58,
   "id": "4046ded1",
   "metadata": {},
   "outputs": [
    {
     "data": {
      "text/plain": [
       "-0.018793463628038624"
      ]
     },
     "execution_count": 58,
     "metadata": {},
     "output_type": "execute_result"
    }
   ],
   "source": [
    "min(partial_model_error)"
   ]
  },
  {
   "cell_type": "code",
   "execution_count": 59,
   "id": "55fae169",
   "metadata": {},
   "outputs": [
    {
     "data": {
      "text/plain": [
       "0.004446154768107703"
      ]
     },
     "execution_count": 59,
     "metadata": {},
     "output_type": "execute_result"
    }
   ],
   "source": [
    "max(full_model_error)"
   ]
  },
  {
   "cell_type": "code",
   "execution_count": 60,
   "id": "51faa576",
   "metadata": {},
   "outputs": [
    {
     "data": {
      "text/plain": [
       "-0.019253845231892296"
      ]
     },
     "execution_count": 60,
     "metadata": {},
     "output_type": "execute_result"
    }
   ],
   "source": [
    "min(full_model_error)"
   ]
  },
  {
   "cell_type": "code",
   "execution_count": 61,
   "id": "80ebd1a0",
   "metadata": {},
   "outputs": [
    {
     "data": {
      "image/png": "[encoded data removed]",
      "text/plain": [
       "<Figure size 640x480 with 1 Axes>"
      ]
     },
     "metadata": {},
     "output_type": "display_data"
    }
   ],
   "source": [
    "bins = np.arange(start=-0.02, stop=0.01, step=0.001)\n",
    "# bins = np.arange(start=-0.002, stop=0.001, step=0.0001)\n",
    "plt.hist(full_model_error, label='(income + EV) model error', alpha=.8, edgecolor='black', bins=bins)\n",
    "plt.hist(partial_model_error, label='EV model error', alpha=0.7, edgecolor='black', bins=bins)\n",
    "plt.legend()\n",
    "plt.show()"
   ]
  },
  {
   "cell_type": "code",
   "execution_count": 62,
   "id": "8461ac2d",
   "metadata": {},
   "outputs": [
    {
     "data": {
      "text/plain": [
       "KruskalResult(statistic=0.059947088248631146, pvalue=0.8065795892210244)"
      ]
     },
     "execution_count": 62,
     "metadata": {},
     "output_type": "execute_result"
    }
   ],
   "source": [
    "kruskal(full_model_error, partial_model_error) # 0.4096727713969591"
   ]
  },
  {
   "cell_type": "code",
   "execution_count": 63,
   "id": "6a43b295",
   "metadata": {},
   "outputs": [
    {
     "data": {
      "text/plain": [
       "[Text(0.6, 0.875, '2020_EV <= 0.009\\nsquared_error = 0.0\\nsamples = 26\\nvalue = 0.008'),\n",
       " Text(0.4, 0.625, '2019_EV <= 0.002\\nsquared_error = 0.0\\nsamples = 19\\nvalue = 0.005'),\n",
       " Text(0.2, 0.375, 'squared_error = 0.0\\nsamples = 8\\nvalue = 0.003'),\n",
       " Text(0.6, 0.375, '2019_EV <= 0.004\\nsquared_error = 0.0\\nsamples = 11\\nvalue = 0.006'),\n",
       " Text(0.4, 0.125, 'squared_error = 0.0\\nsamples = 6\\nvalue = 0.005'),\n",
       " Text(0.8, 0.125, 'squared_error = 0.0\\nsamples = 5\\nvalue = 0.008'),\n",
       " Text(0.8, 0.625, 'squared_error = 0.0\\nsamples = 7\\nvalue = 0.018')]"
      ]
     },
     "execution_count": 63,
     "metadata": {},
     "output_type": "execute_result"
    },
    {
     "data": {
      "image/png": "[encoded data removed]",
      "text/plain": [
       "<Figure size 640x480 with 1 Axes>"
      ]
     },
     "metadata": {},
     "output_type": "display_data"
    }
   ],
   "source": [
    "from sklearn import tree\n",
    "tree.plot_tree(regr_full.estimators_[0], feature_names=['2019_EV', '2020_EV', '2019_income','2020_income', '2021_income'])"
   ]
  },
  {
   "cell_type": "code",
   "execution_count": 64,
   "id": "e266069a",
   "metadata": {},
   "outputs": [
    {
     "data": {
      "text/plain": [
       "[Text(0.6666666666666666, 0.875, '2019_EV <= 0.008\\nsquared_error = 0.0\\nsamples = 23\\nvalue = 0.008'),\n",
       " Text(0.5, 0.625, '2019_EV <= 0.004\\nsquared_error = 0.0\\nsamples = 18\\nvalue = 0.005'),\n",
       " Text(0.3333333333333333, 0.375, '2019_EV <= 0.003\\nsquared_error = 0.0\\nsamples = 10\\nvalue = 0.004'),\n",
       " Text(0.16666666666666666, 0.125, 'squared_error = 0.0\\nsamples = 5\\nvalue = 0.003'),\n",
       " Text(0.5, 0.125, 'squared_error = 0.0\\nsamples = 5\\nvalue = 0.005'),\n",
       " Text(0.6666666666666666, 0.375, 'squared_error = 0.0\\nsamples = 8\\nvalue = 0.009'),\n",
       " Text(0.8333333333333334, 0.625, 'squared_error = 0.0\\nsamples = 5\\nvalue = 0.022')]"
      ]
     },
     "execution_count": 64,
     "metadata": {},
     "output_type": "execute_result"
    },
    {
     "data": {
      "image/png": "[encoded data removed]",
      "text/plain": [
       "<Figure size 640x480 with 1 Axes>"
      ]
     },
     "metadata": {},
     "output_type": "display_data"
    }
   ],
   "source": [
    "tree.plot_tree(regr_partial.estimators_[0], feature_names=['2019_EV', '2020_EV'])"
   ]
  }
 ],
 "metadata": {
  "kernelspec": {
   "display_name": "Python 3 (ipykernel)",
   "language": "python",
   "name": "python3"
  },
  "language_info": {
   "codemirror_mode": {
    "name": "ipython",
    "version": 3
   },
   "file_extension": ".py",
   "mimetype": "text/x-python",
   "name": "python",
   "nbconvert_exporter": "python",
   "pygments_lexer": "ipython3",
   "version": "3.9.18"
  }
 },
 "nbformat": 4,
 "nbformat_minor": 5
}
